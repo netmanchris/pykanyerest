{
 "cells": [
  {
   "cell_type": "markdown",
   "metadata": {},
   "source": [
    "# Testing in the Open\n",
    "\n",
    "\"Automation is not testing\"\n",
    "\n",
    "I recently attended a webinar where the speaker made this comment and it started me thinking about testing in general and what some of the challenges that can present. \n",
    "\n",
    "We all *know* that we should be testing, but there are a lot of potential pit falls that one can fall into when starting down this journey. I'm going to jump into the deep end of the pool here and deal with one of the struggles that it took me a while to deal with. \n",
    "\n",
    "Imagine the following:\n",
    "- You have a local device with a REST API\n",
    "- You write a library that accesses that REST API\n",
    "- You write tests for that library so that it runs against the local devices REST API\n",
    "- You push the library to GITHUB so that other people can leverage your work. ( You are a good person, right?) \n",
    "- You configure TravisCI or CircleCI for integration testing.\n",
    "- You realise all your tests fail because Travis/Circle doesn't have access to your internal device. \n",
    "\n",
    "And now your GITHUB badges all show red and no one trusts your code. Which brings us to *vcrpy*\n",
    "\n",
    "\n",
    "## What's vcrpy?\n",
    "\n",
    "Wow! So glad you asked!  *vcrpy* is a RESTAPI library that helps to automatically record the responses from a RESTAPI and capture them on a local file that you can reuse later. \n",
    "\n",
    "Accoring to the *vcrpy* docs which are available [here](https://vcrpy.readthedocs.io/en/latest/)\n",
    "the three main benefits of this library are\n",
    "\n",
    "    The ability to work offline\n",
    "    Completely deterministic tests\n",
    "    Increased test execution speed\n",
    "    \n",
    "So let's dig in by writting a quick piece of code which is going to access a REST API. In this case, I'm going to be using a public API, but let's imagine that this was behind your firewall on a device where you don't want anyone fiddling with. "
   ]
  },
  {
   "cell_type": "markdown",
   "metadata": {},
   "source": [
    "So in this case. We're going to be using the public API at https://api.kanye.rest.   This is a public API that respond to every GET request with a quote from Kanye West. \n",
    "\n",
    "Let's use python to create a small library that will access the API, print a message, and return the quote as JSON.\n",
    "\n",
    "If you want to take a look at the library, feel free to check out the GITHUB repository [here](INSERT_THE_REPO_HERE_WHEN_POSTED)\n",
    "\n",
    "If you don't want to leave this page, I've included the only function in this library right here.test"
   ]
  },
  {
   "cell_type": "code",
   "execution_count": 22,
   "metadata": {},
   "outputs": [],
   "source": [
    "import requests, json\n",
    "\n",
    "def get_new_quote():\n",
    "    url= 'https://api.kanye.rest'\n",
    "    r = requests.get(url)\n",
    "    quote = json.loads(r.text)\n",
    "    print (\"New Kanye Quote coming up!\")\n",
    "    return quote"
   ]
  },
  {
   "cell_type": "markdown",
   "metadata": {},
   "source": [
    "Now that we've got the new function built. Let's take a quick look at what we get. We will run the function and capture it in a python variable called *x*"
   ]
  },
  {
   "cell_type": "code",
   "execution_count": 23,
   "metadata": {},
   "outputs": [
    {
     "name": "stdout",
     "output_type": "stream",
     "text": [
      "New Kanye Quote coming up!\n"
     ]
    }
   ],
   "source": [
    "x = get_new_quote()"
   ]
  },
  {
   "cell_type": "markdown",
   "metadata": {},
   "source": [
    "Now let's use the json library to take a look at what was returned. "
   ]
  },
  {
   "cell_type": "code",
   "execution_count": 24,
   "metadata": {},
   "outputs": [
    {
     "data": {
      "text/plain": [
       "'{\"quote\": \"George Bush doesn\\'t care about black people\"}'"
      ]
     },
     "execution_count": 24,
     "metadata": {},
     "output_type": "execute_result"
    }
   ],
   "source": [
    "json.dumps(x)"
   ]
  },
  {
   "cell_type": "markdown",
   "metadata": {},
   "source": [
    "Now that we've got some working code. Let's take run it again and capture this as the python variable *y*"
   ]
  },
  {
   "cell_type": "code",
   "execution_count": 25,
   "metadata": {},
   "outputs": [
    {
     "name": "stdout",
     "output_type": "stream",
     "text": [
      "New Kanye Quote coming up!\n"
     ]
    }
   ],
   "source": [
    "y = get_new_quote()"
   ]
  },
  {
   "cell_type": "code",
   "execution_count": 26,
   "metadata": {},
   "outputs": [
    {
     "data": {
      "text/plain": [
       "'{\"quote\": \"The world is our office\"}'"
      ]
     },
     "execution_count": 26,
     "metadata": {},
     "output_type": "execute_result"
    }
   ],
   "source": [
    "json.dumps(y)"
   ]
  },
  {
   "cell_type": "markdown",
   "metadata": {},
   "source": [
    "> Hmmmmm\n",
    "\n",
    "So as you can see, each time you perform a GET against the API another variable is returned. You can imagine that this probably isn't the best thing for testing as we really don't have a clear indication as to what *exactly* we're going to expect from this API. \n",
    "\n",
    "We do know a couple of things that can be used for testing\n",
    "\n",
    "- the returned object is a python dictionary\n",
    "- the returned object has a single key/value pair.\n",
    "- the returned object's first key is \"quote\"\n",
    "- the returned object's first value is going to be an object of type STR.\n",
    "\n",
    "Imagine what the code that could test for all of these things. \n",
    "\n",
    "> Take your time... I'll wait. \n",
    "\n",
    "While you were imagining it, I wrote a quick test to help make sure that the API is returning what we expect. If you don't expect anything, you deserve what you get, right?"
   ]
  },
  {
   "cell_type": "code",
   "execution_count": 27,
   "metadata": {},
   "outputs": [],
   "source": [
    "from unittest import TestCase\n",
    "from pykanyerest.quotes import *\n",
    "\n",
    "class TestGetNewQuote(TestCase):\n",
    "    \"\"\"\n",
    "    Test Case for get_new_quote function from kanye.rest\n",
    "    \"\"\"\n",
    "\n",
    "    def test_GetNewQuote(self):\n",
    "        \"\"\"\n",
    "        \"\"\"\n",
    "        quote = get_new_quote()\n",
    "        self.assertEqual(type(quote), dict)\n",
    "        self.assertEqual(len(quote), 1)\n",
    "        keys = quote.keys()\n",
    "        self.assertIn('quote', keys)\n",
    "        self.assertEqual(type(quote['quote']), str)"
   ]
  },
  {
   "cell_type": "markdown",
   "metadata": {},
   "source": [
    "If you were to run this test, you would find that it passes. You can trust me on this, right?\n",
    "\n",
    "Now that we've already got a lot that we can hang our tests on, but imagine that we want to also test the exact contents of the value. \n",
    "\n",
    "The code to test would now look like this"
   ]
  },
  {
   "cell_type": "code",
   "execution_count": 28,
   "metadata": {},
   "outputs": [],
   "source": [
    "class TestGetNewQuote(TestCase):\n",
    "    \"\"\"\n",
    "    Test Case for get_new_quote function from kanye.rest\n",
    "    \"\"\"\n",
    "\n",
    "    def test_GetNewQuote(self):\n",
    "        \"\"\"\n",
    "        \"\"\"\n",
    "        quote = get_new_quote()\n",
    "        self.assertEqual(type(quote), dict)\n",
    "        self.assertEqual(len(quote), 1)\n",
    "        keys = quote.keys()\n",
    "        self.assertIn('quote', keys)\n",
    "        self.assertEqual(type(quote['quote']), str)\n",
    "        self.assertEqual(quote['quote'], \"If I got any cooler I would freeze to death\")"
   ]
  },
  {
   "cell_type": "markdown",
   "metadata": {},
   "source": [
    "If you ran THIS code, you would now find that it fails.\n",
    "\n",
    "```\n",
    "Traceback (most recent call last):\n",
    "  File \"/Users/christopheryoung/PycharmProjects/OpenTestingBlog/tests/test_quotes.py\", line 18, in test_GetNewQuote\n",
    "    self.assertEqual(quote['quote'], \"If I got any cooler I would freeze to death\")\n",
    "  File \"/Applications/PyCharm.app/Contents/helpers/pycharm/teamcity/diff_tools.py\", line 38, in _patched_equals\n",
    "    raise error\n",
    "teamcity.diff_tools.EqualsAssertionError:  :: People only get jealous when they care. != If I got any cooler I would freeze to death\n",
    "\n",
    "```"
   ]
  },
  {
   "cell_type": "markdown",
   "metadata": {},
   "source": [
    "# Why did it fail?\n",
    "\n",
    "Well of course it failed because the API is supposed to return a *NEW* quote everytime we hit it. \n",
    "\n",
    "This is where the *vcrpy* library comes in SUPER handy as it can record and freeze the API response so that we can make sure that last test pasts every time. \n",
    "\n",
    "So the first thing we're going to do is to import the VCR library into our test file and configure the new test to record the API response into a file on the local filesystem.\n",
    "\n",
    "As you can see below, we've really only added two lines.\n",
    "\n",
    "The first is the \"import vcr\" line at the top which makes the vcrpy library available to the test script, and the second is the decorator on top of the \"test_GetNewQuote\" function which does two things.\n",
    "1) Tells the script where to copy the results of the API call the first time you run it\n",
    "2) Tells the script where to look for the results every subsequent time you run it.\n",
    "\n"
   ]
  },
  {
   "cell_type": "code",
   "execution_count": 29,
   "metadata": {},
   "outputs": [],
   "source": [
    "import vcr\n",
    "from unittest import TestCase\n",
    "from pykanyerest.quotes import *\n",
    "\n",
    "\n",
    "class TestGetNewQuote(TestCase):\n",
    "    \"\"\"\n",
    "    Test Case for get_new_quote function from kanye.rest\n",
    "    \"\"\"\n",
    "\n",
    "    @vcr.use_cassette(cassette_library_dir='./test_pykanyerest/fixtures/cassettes')\n",
    "    def test_GetNewQuote(self):\n",
    "        \"\"\"\n",
    "        \"\"\"\n",
    "        quote = get_new_quote()\n",
    "        self.assertEqual(type(quote), dict)\n",
    "        self.assertEqual(len(quote), 1)\n",
    "        keys = quote.keys()\n",
    "        self.assertIn('quote', keys)\n",
    "        self.assertEqual(type(quote['quote']), str)\n",
    "        self.assertEqual(quote['quote'], \"If I got any cooler I would freeze to death\")\n"
   ]
  },
  {
   "cell_type": "markdown",
   "metadata": {},
   "source": [
    "Once you've run the test once, a new file will appear in the ./test_pykanyerest/fixtures/cassettes/test_GetNewQuote folder with the following contents\n",
    "\n",
    "```\n",
    "interactions:\n",
    "- request:\n",
    "    body: null\n",
    "    headers:\n",
    "      Accept:\n",
    "      - '*/*'\n",
    "      Accept-Encoding:\n",
    "      - gzip, deflate\n",
    "      Connection:\n",
    "      - keep-alive\n",
    "      User-Agent:\n",
    "      - python-requests/2.22.0\n",
    "    method: GET\n",
    "    uri: https://api.kanye.rest/\n",
    "  response:\n",
    "    body:\n",
    "      string: '{\"quote\":\"I''m a creative genius\"}'\n",
    "    headers:\n",
    "      Access-Control-Allow-Headers:\n",
    "      - Content-Type\n",
    "      Access-Control-Allow-Methods:\n",
    "      - GET\n",
    "      Access-Control-Allow-Origin:\n",
    "      - '*'\n",
    "      CF-RAY:\n",
    "      - 55a5b75cac3aecee-YUL\n",
    "      Connection:\n",
    "      - keep-alive\n",
    "      Content-Length:\n",
    "      - '33'\n",
    "      Content-Type:\n",
    "      - application/json\n",
    "      Date:\n",
    "      - Fri, 24 Jan 2020 23:16:38 GMT\n",
    "      Expect-CT:\n",
    "      - max-age=604800, report-uri=\"https://report-uri.cloudflare.com/cdn-cgi/beacon/expect-ct\"\n",
    "      Server:\n",
    "      - cloudflare\n",
    "      Set-Cookie:\n",
    "      - __cfduid=d1c38c52e7d73039e047e768fdea93b5d1579907798; expires=Sun, 23-Feb-20\n",
    "        23:16:38 GMT; path=/; domain=.kanye.rest; HttpOnly; SameSite=Lax\n",
    "      Vary:\n",
    "      - Accept-Encoding\n",
    "    status:\n",
    "      code: 200\n",
    "      message: OK\n",
    "version: 1\n",
    "\n",
    "```\n",
    "\n",
    "If you look closely, you can see a lot of information in there including the contents of the response body string which is now '{\"quote\":\"I''m a creative genius\"}'.\n",
    "\n",
    "Note: For those paying attention, you will probably have guessed that the test we created above will still be failing as the Kanye quote we were looking for has changed again. \n",
    "\n",
    "Let's change the test so that we are now looking for the new quote that's captured in the test_GetNewQuote file above. \n"
   ]
  },
  {
   "cell_type": "code",
   "execution_count": 30,
   "metadata": {},
   "outputs": [],
   "source": [
    "import vcr\n",
    "from unittest import TestCase\n",
    "from pykanyerest.quotes import *\n",
    "\n",
    "\n",
    "class TestGetNewQuote(TestCase):\n",
    "    \"\"\"\n",
    "    Test Case for get_new_quote function from kanye.rest\n",
    "    \"\"\"\n",
    "\n",
    "    @vcr.use_cassette(cassette_library_dir='./test_pykanyerest/fixtures/cassettes')\n",
    "    def test_GetNewQuote(self):\n",
    "        \"\"\"\n",
    "        \"\"\"\n",
    "        quote = get_new_quote()\n",
    "        self.assertEqual(type(quote), dict)\n",
    "        self.assertEqual(len(quote), 1)\n",
    "        keys = quote.keys()\n",
    "        self.assertIn('quote', keys)\n",
    "        self.assertEqual(type(quote['quote']), str)\n",
    "        self.assertEqual(quote['quote'], \"I'm a creative genius\")"
   ]
  },
  {
   "cell_type": "markdown",
   "metadata": {},
   "source": [
    "Now when we run the tests, they all pass. \n",
    "\n",
    "And when we run them again? \n",
    "\n",
    "... They still pass. \n",
    "\n",
    "And when we run them again?\n",
    "\n",
    "... They still pass.\n",
    "\n",
    "We can now run the same test a million times and get the same answer which is pretty cool, right?"
   ]
  },
  {
   "cell_type": "markdown",
   "metadata": {},
   "source": [
    "## One More Thing\n",
    "\n",
    "One of the other major benefits of using something like *vcrpy* is that we can now continue to refactor our code even when we don't have access to the resource we're testing. \n",
    "\n",
    "Stuck in a plane with no internet?  No problem, you've captured the *actual* response from the original server. Your code has no clue you're not connected.\n",
    "\n",
    "No access to the corporate network? No problem, you've captured the *actual* response from the original server. Your code has no clue you're not connected.\n",
    "\n",
    "TravisCI has no access to your internal resources? No problem, you've captured the *actual* response from the original server and posted to GITHUB. TravisCI has no clue you're not connected. \n",
    "\n",
    "\n",
    "\n"
   ]
  },
  {
   "cell_type": "markdown",
   "metadata": {},
   "source": [
    "## VCRPY\n",
    "\n",
    "I've only begun to scratch the surface of this library, but hopefully it will spark your curiosity to investigate it a bit more and see how you can write some new tests for that fancy REST API on your new infratructure. \n",
    "\n",
    "Just remember, you don't want to be writting your secret usernames and passwords to a public GITHUB. The nice thing is that the vcrpy also has the ability to hide credentials.  I'll leave it up to you to see if you can figure that out. ;)\n",
    "\n",
    "@netmanchris\n"
   ]
  },
  {
   "cell_type": "code",
   "execution_count": null,
   "metadata": {},
   "outputs": [],
   "source": []
  }
 ],
 "metadata": {
  "kernelspec": {
   "display_name": "Python 3",
   "language": "python",
   "name": "python3"
  },
  "language_info": {
   "codemirror_mode": {
    "name": "ipython",
    "version": 3
   },
   "file_extension": ".py",
   "mimetype": "text/x-python",
   "name": "python",
   "nbconvert_exporter": "python",
   "pygments_lexer": "ipython3",
   "version": "3.7.3"
  }
 },
 "nbformat": 4,
 "nbformat_minor": 4
}
